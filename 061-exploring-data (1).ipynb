{
 "cells": [
  {
   "cell_type": "markdown",
   "id": "4004916d-a1d9-4259-a012-5a7180b23f9a",
   "metadata": {},
   "source": [
    "<font size=\"+3\"><strong>6.1. Exploring the Data</strong></font>"
   ]
  },
  {
   "cell_type": "markdown",
   "id": "5c238295-c781-448f-a1ca-d175d80f4822",
   "metadata": {},
   "source": [
    "In this project, we're going to work with data from the [Survey of Consumer Finances](https://www.federalreserve.gov/econres/scfindex.htm) (SCF). The SCF is a survey sponsored by the US Federal Reserve. It tracks financial, demographic, and opinion information about families in the United States. The survey is conducted every three years, and we'll work with an extract of the results from 2019."
   ]
  },
  {
   "cell_type": "code",
   "execution_count": 1,
   "id": "3065253d-e2b6-4d66-878e-918f2ad2891e",
   "metadata": {},
   "outputs": [],
   "source": [
    "import matplotlib.pyplot as plt\n",
    "import pandas as pd\n",
    "import seaborn as sns\n",
    "from IPython.display import VimeoVideo"
   ]
  },
  {
   "cell_type": "code",
   "execution_count": null,
   "id": "23d52316-f43a-4b41-88b6-e16bc5bddee9",
   "metadata": {},
   "outputs": [],
   "source": [
    "VimeoVideo(\"710780578\", h=\"43bb879d16\", width=600)"
   ]
  },
  {
   "cell_type": "markdown",
   "id": "df55acd8-7c71-42cc-b64d-e854a8a02e2b",
   "metadata": {},
   "source": [
    "# Prepare Data"
   ]
  },
  {
   "cell_type": "markdown",
   "id": "497815e9-6668-4b27-b837-f2348ec55f0c",
   "metadata": {},
   "source": [
    "## Import"
   ]
  },
  {
   "cell_type": "markdown",
   "id": "3400ab92-e512-4344-b7bc-159a827ea78a",
   "metadata": {},
   "source": [
    "First, we need to load the data, which is stored in a compressed CSV file: `SCFP2019.csv.gz`. In the last project, you learned how to decompress files using `gzip` and the command line. However, pandas `read_csv` function can work with compressed files directly. "
   ]
  },
  {
   "cell_type": "code",
   "execution_count": null,
   "id": "83cc016b-963b-4f37-96af-1095573134f4",
   "metadata": {},
   "outputs": [],
   "source": [
    "VimeoVideo(\"710781788\", h=\"efd2dda882\", width=600)"
   ]
  },
  {
   "cell_type": "markdown",
   "id": "5f574eff-9f52-400d-b9e1-5a482039ba18",
   "metadata": {},
   "source": [
    "**Task 6.1.1:** Read the file `\"data/SCFP2019.csv.gz\"` into the DataFrame `df`.\n",
    "\n",
    "- [Read a CSV file into a DataFrame using pandas.](../%40textbook/03-pandas-getting-started.ipynb#Working-with-DataFrames)"
   ]
  },
  {
   "cell_type": "code",
   "execution_count": 2,
   "id": "02e2edea-4942-4669-ae00-3949828b010a",
   "metadata": {},
   "outputs": [
    {
     "name": "stdout",
     "output_type": "stream",
     "text": [
      "df type: <class 'pandas.core.frame.DataFrame'>\n",
      "df shape: (28885, 351)\n"
     ]
    },
    {
     "data": {
      "text/html": [
       "<div>\n",
       "<style scoped>\n",
       "    .dataframe tbody tr th:only-of-type {\n",
       "        vertical-align: middle;\n",
       "    }\n",
       "\n",
       "    .dataframe tbody tr th {\n",
       "        vertical-align: top;\n",
       "    }\n",
       "\n",
       "    .dataframe thead th {\n",
       "        text-align: right;\n",
       "    }\n",
       "</style>\n",
       "<table border=\"1\" class=\"dataframe\">\n",
       "  <thead>\n",
       "    <tr style=\"text-align: right;\">\n",
       "      <th></th>\n",
       "      <th>YY1</th>\n",
       "      <th>Y1</th>\n",
       "      <th>WGT</th>\n",
       "      <th>HHSEX</th>\n",
       "      <th>AGE</th>\n",
       "      <th>AGECL</th>\n",
       "      <th>EDUC</th>\n",
       "      <th>EDCL</th>\n",
       "      <th>MARRIED</th>\n",
       "      <th>KIDS</th>\n",
       "      <th>...</th>\n",
       "      <th>NWCAT</th>\n",
       "      <th>INCCAT</th>\n",
       "      <th>ASSETCAT</th>\n",
       "      <th>NINCCAT</th>\n",
       "      <th>NINC2CAT</th>\n",
       "      <th>NWPCTLECAT</th>\n",
       "      <th>INCPCTLECAT</th>\n",
       "      <th>NINCPCTLECAT</th>\n",
       "      <th>INCQRTCAT</th>\n",
       "      <th>NINCQRTCAT</th>\n",
       "    </tr>\n",
       "  </thead>\n",
       "  <tbody>\n",
       "    <tr>\n",
       "      <th>0</th>\n",
       "      <td>1</td>\n",
       "      <td>11</td>\n",
       "      <td>6119.779308</td>\n",
       "      <td>2</td>\n",
       "      <td>75</td>\n",
       "      <td>6</td>\n",
       "      <td>12</td>\n",
       "      <td>4</td>\n",
       "      <td>2</td>\n",
       "      <td>0</td>\n",
       "      <td>...</td>\n",
       "      <td>5</td>\n",
       "      <td>3</td>\n",
       "      <td>6</td>\n",
       "      <td>3</td>\n",
       "      <td>2</td>\n",
       "      <td>10</td>\n",
       "      <td>6</td>\n",
       "      <td>6</td>\n",
       "      <td>3</td>\n",
       "      <td>3</td>\n",
       "    </tr>\n",
       "    <tr>\n",
       "      <th>1</th>\n",
       "      <td>1</td>\n",
       "      <td>12</td>\n",
       "      <td>4712.374912</td>\n",
       "      <td>2</td>\n",
       "      <td>75</td>\n",
       "      <td>6</td>\n",
       "      <td>12</td>\n",
       "      <td>4</td>\n",
       "      <td>2</td>\n",
       "      <td>0</td>\n",
       "      <td>...</td>\n",
       "      <td>5</td>\n",
       "      <td>3</td>\n",
       "      <td>6</td>\n",
       "      <td>3</td>\n",
       "      <td>1</td>\n",
       "      <td>10</td>\n",
       "      <td>5</td>\n",
       "      <td>5</td>\n",
       "      <td>2</td>\n",
       "      <td>2</td>\n",
       "    </tr>\n",
       "    <tr>\n",
       "      <th>2</th>\n",
       "      <td>1</td>\n",
       "      <td>13</td>\n",
       "      <td>5145.224455</td>\n",
       "      <td>2</td>\n",
       "      <td>75</td>\n",
       "      <td>6</td>\n",
       "      <td>12</td>\n",
       "      <td>4</td>\n",
       "      <td>2</td>\n",
       "      <td>0</td>\n",
       "      <td>...</td>\n",
       "      <td>5</td>\n",
       "      <td>3</td>\n",
       "      <td>6</td>\n",
       "      <td>3</td>\n",
       "      <td>1</td>\n",
       "      <td>10</td>\n",
       "      <td>5</td>\n",
       "      <td>5</td>\n",
       "      <td>2</td>\n",
       "      <td>2</td>\n",
       "    </tr>\n",
       "    <tr>\n",
       "      <th>3</th>\n",
       "      <td>1</td>\n",
       "      <td>14</td>\n",
       "      <td>5297.663412</td>\n",
       "      <td>2</td>\n",
       "      <td>75</td>\n",
       "      <td>6</td>\n",
       "      <td>12</td>\n",
       "      <td>4</td>\n",
       "      <td>2</td>\n",
       "      <td>0</td>\n",
       "      <td>...</td>\n",
       "      <td>5</td>\n",
       "      <td>2</td>\n",
       "      <td>6</td>\n",
       "      <td>2</td>\n",
       "      <td>1</td>\n",
       "      <td>10</td>\n",
       "      <td>4</td>\n",
       "      <td>4</td>\n",
       "      <td>2</td>\n",
       "      <td>2</td>\n",
       "    </tr>\n",
       "    <tr>\n",
       "      <th>4</th>\n",
       "      <td>1</td>\n",
       "      <td>15</td>\n",
       "      <td>4761.812371</td>\n",
       "      <td>2</td>\n",
       "      <td>75</td>\n",
       "      <td>6</td>\n",
       "      <td>12</td>\n",
       "      <td>4</td>\n",
       "      <td>2</td>\n",
       "      <td>0</td>\n",
       "      <td>...</td>\n",
       "      <td>5</td>\n",
       "      <td>3</td>\n",
       "      <td>6</td>\n",
       "      <td>3</td>\n",
       "      <td>1</td>\n",
       "      <td>10</td>\n",
       "      <td>5</td>\n",
       "      <td>5</td>\n",
       "      <td>2</td>\n",
       "      <td>2</td>\n",
       "    </tr>\n",
       "  </tbody>\n",
       "</table>\n",
       "<p>5 rows × 351 columns</p>\n",
       "</div>"
      ],
      "text/plain": [
       "   YY1  Y1          WGT  HHSEX  AGE  AGECL  EDUC  EDCL  MARRIED  KIDS  ...  \\\n",
       "0    1  11  6119.779308      2   75      6    12     4        2     0  ...   \n",
       "1    1  12  4712.374912      2   75      6    12     4        2     0  ...   \n",
       "2    1  13  5145.224455      2   75      6    12     4        2     0  ...   \n",
       "3    1  14  5297.663412      2   75      6    12     4        2     0  ...   \n",
       "4    1  15  4761.812371      2   75      6    12     4        2     0  ...   \n",
       "\n",
       "   NWCAT  INCCAT  ASSETCAT  NINCCAT  NINC2CAT  NWPCTLECAT  INCPCTLECAT  \\\n",
       "0      5       3         6        3         2          10            6   \n",
       "1      5       3         6        3         1          10            5   \n",
       "2      5       3         6        3         1          10            5   \n",
       "3      5       2         6        2         1          10            4   \n",
       "4      5       3         6        3         1          10            5   \n",
       "\n",
       "   NINCPCTLECAT  INCQRTCAT  NINCQRTCAT  \n",
       "0             6          3           3  \n",
       "1             5          2           2  \n",
       "2             5          2           2  \n",
       "3             4          2           2  \n",
       "4             5          2           2  \n",
       "\n",
       "[5 rows x 351 columns]"
      ]
     },
     "execution_count": 2,
     "metadata": {},
     "output_type": "execute_result"
    }
   ],
   "source": [
    "df = pd.read_csv(\"data/SCFP2019.csv.gz\")\n",
    "print(\"df type:\", type(df))\n",
    "print(\"df shape:\", df.shape)\n",
    "df.head()"
   ]
  },
  {
   "cell_type": "markdown",
   "id": "a3ba6e92-ec6d-4b78-a49b-977e7db88354",
   "metadata": {},
   "source": [
    "One of the first things you might notice here is that this dataset is HUGE — over 20,000 rows and 351 columns! SO MUCH DATA!!! We won't have time to explore all of the features in this dataset, but you can look in the [data dictionary](./066-data-dictionary.ipynb) for this project for details and links to the official [Code Book](https://sda.berkeley.edu/sdaweb/docs/scfcomb2019/DOC/hcbk.htm). For now, let's just say that this dataset tracks all sorts of behaviors relating to the ways households earn, save, and spend money in the United States.\n",
    "\n",
    "For this project, we're going to focus on households that have \"been turned down for credit or feared being denied credit in the past 5 years.\" These households are identified in the `\"TURNFEAR\"` column. "
   ]
  },
  {
   "cell_type": "code",
   "execution_count": null,
   "id": "a96dd407-73f5-4ae9-8905-48e72dc7c43a",
   "metadata": {},
   "outputs": [],
   "source": [
    "VimeoVideo(\"710783015\", h=\"c24ce96aab\", width=600)"
   ]
  },
  {
   "cell_type": "markdown",
   "id": "9f9be17d-815b-4697-93ef-596a7cca2d2b",
   "metadata": {},
   "source": [
    "**Task 6.1.2:** Use a`mask` to subset create `df` to only households that have been turned down or feared being turned down for credit (`\"TURNFEAR\" == 1`). Assign this subset to the variable name `df_fear`.\n",
    "\n",
    "- [Subset a DataFrame with a mask using pandas.](../%40textbook/04-pandas-advanced.ipynb#Subsetting-with-Masks)"
   ]
  },
  {
   "cell_type": "code",
   "execution_count": 3,
   "id": "3268b3fe-164f-4423-9c3a-d616a336d5d5",
   "metadata": {},
   "outputs": [
    {
     "name": "stdout",
     "output_type": "stream",
     "text": [
      "df_fear type: <class 'pandas.core.frame.DataFrame'>\n",
      "df_fear shape: (4623, 351)\n"
     ]
    },
    {
     "data": {
      "text/html": [
       "<div>\n",
       "<style scoped>\n",
       "    .dataframe tbody tr th:only-of-type {\n",
       "        vertical-align: middle;\n",
       "    }\n",
       "\n",
       "    .dataframe tbody tr th {\n",
       "        vertical-align: top;\n",
       "    }\n",
       "\n",
       "    .dataframe thead th {\n",
       "        text-align: right;\n",
       "    }\n",
       "</style>\n",
       "<table border=\"1\" class=\"dataframe\">\n",
       "  <thead>\n",
       "    <tr style=\"text-align: right;\">\n",
       "      <th></th>\n",
       "      <th>YY1</th>\n",
       "      <th>Y1</th>\n",
       "      <th>WGT</th>\n",
       "      <th>HHSEX</th>\n",
       "      <th>AGE</th>\n",
       "      <th>AGECL</th>\n",
       "      <th>EDUC</th>\n",
       "      <th>EDCL</th>\n",
       "      <th>MARRIED</th>\n",
       "      <th>KIDS</th>\n",
       "      <th>...</th>\n",
       "      <th>NWCAT</th>\n",
       "      <th>INCCAT</th>\n",
       "      <th>ASSETCAT</th>\n",
       "      <th>NINCCAT</th>\n",
       "      <th>NINC2CAT</th>\n",
       "      <th>NWPCTLECAT</th>\n",
       "      <th>INCPCTLECAT</th>\n",
       "      <th>NINCPCTLECAT</th>\n",
       "      <th>INCQRTCAT</th>\n",
       "      <th>NINCQRTCAT</th>\n",
       "    </tr>\n",
       "  </thead>\n",
       "  <tbody>\n",
       "    <tr>\n",
       "      <th>5</th>\n",
       "      <td>2</td>\n",
       "      <td>21</td>\n",
       "      <td>3790.476607</td>\n",
       "      <td>1</td>\n",
       "      <td>50</td>\n",
       "      <td>3</td>\n",
       "      <td>8</td>\n",
       "      <td>2</td>\n",
       "      <td>1</td>\n",
       "      <td>3</td>\n",
       "      <td>...</td>\n",
       "      <td>1</td>\n",
       "      <td>2</td>\n",
       "      <td>1</td>\n",
       "      <td>2</td>\n",
       "      <td>1</td>\n",
       "      <td>1</td>\n",
       "      <td>4</td>\n",
       "      <td>4</td>\n",
       "      <td>2</td>\n",
       "      <td>2</td>\n",
       "    </tr>\n",
       "    <tr>\n",
       "      <th>6</th>\n",
       "      <td>2</td>\n",
       "      <td>22</td>\n",
       "      <td>3798.868505</td>\n",
       "      <td>1</td>\n",
       "      <td>50</td>\n",
       "      <td>3</td>\n",
       "      <td>8</td>\n",
       "      <td>2</td>\n",
       "      <td>1</td>\n",
       "      <td>3</td>\n",
       "      <td>...</td>\n",
       "      <td>1</td>\n",
       "      <td>2</td>\n",
       "      <td>1</td>\n",
       "      <td>2</td>\n",
       "      <td>1</td>\n",
       "      <td>1</td>\n",
       "      <td>4</td>\n",
       "      <td>3</td>\n",
       "      <td>2</td>\n",
       "      <td>2</td>\n",
       "    </tr>\n",
       "    <tr>\n",
       "      <th>7</th>\n",
       "      <td>2</td>\n",
       "      <td>23</td>\n",
       "      <td>3799.468393</td>\n",
       "      <td>1</td>\n",
       "      <td>50</td>\n",
       "      <td>3</td>\n",
       "      <td>8</td>\n",
       "      <td>2</td>\n",
       "      <td>1</td>\n",
       "      <td>3</td>\n",
       "      <td>...</td>\n",
       "      <td>1</td>\n",
       "      <td>2</td>\n",
       "      <td>1</td>\n",
       "      <td>2</td>\n",
       "      <td>1</td>\n",
       "      <td>1</td>\n",
       "      <td>4</td>\n",
       "      <td>4</td>\n",
       "      <td>2</td>\n",
       "      <td>2</td>\n",
       "    </tr>\n",
       "    <tr>\n",
       "      <th>8</th>\n",
       "      <td>2</td>\n",
       "      <td>24</td>\n",
       "      <td>3788.076005</td>\n",
       "      <td>1</td>\n",
       "      <td>50</td>\n",
       "      <td>3</td>\n",
       "      <td>8</td>\n",
       "      <td>2</td>\n",
       "      <td>1</td>\n",
       "      <td>3</td>\n",
       "      <td>...</td>\n",
       "      <td>1</td>\n",
       "      <td>2</td>\n",
       "      <td>1</td>\n",
       "      <td>2</td>\n",
       "      <td>1</td>\n",
       "      <td>1</td>\n",
       "      <td>4</td>\n",
       "      <td>4</td>\n",
       "      <td>2</td>\n",
       "      <td>2</td>\n",
       "    </tr>\n",
       "    <tr>\n",
       "      <th>9</th>\n",
       "      <td>2</td>\n",
       "      <td>25</td>\n",
       "      <td>3793.066589</td>\n",
       "      <td>1</td>\n",
       "      <td>50</td>\n",
       "      <td>3</td>\n",
       "      <td>8</td>\n",
       "      <td>2</td>\n",
       "      <td>1</td>\n",
       "      <td>3</td>\n",
       "      <td>...</td>\n",
       "      <td>1</td>\n",
       "      <td>2</td>\n",
       "      <td>1</td>\n",
       "      <td>2</td>\n",
       "      <td>1</td>\n",
       "      <td>1</td>\n",
       "      <td>4</td>\n",
       "      <td>4</td>\n",
       "      <td>2</td>\n",
       "      <td>2</td>\n",
       "    </tr>\n",
       "  </tbody>\n",
       "</table>\n",
       "<p>5 rows × 351 columns</p>\n",
       "</div>"
      ],
      "text/plain": [
       "   YY1  Y1          WGT  HHSEX  AGE  AGECL  EDUC  EDCL  MARRIED  KIDS  ...  \\\n",
       "5    2  21  3790.476607      1   50      3     8     2        1     3  ...   \n",
       "6    2  22  3798.868505      1   50      3     8     2        1     3  ...   \n",
       "7    2  23  3799.468393      1   50      3     8     2        1     3  ...   \n",
       "8    2  24  3788.076005      1   50      3     8     2        1     3  ...   \n",
       "9    2  25  3793.066589      1   50      3     8     2        1     3  ...   \n",
       "\n",
       "   NWCAT  INCCAT  ASSETCAT  NINCCAT  NINC2CAT  NWPCTLECAT  INCPCTLECAT  \\\n",
       "5      1       2         1        2         1           1            4   \n",
       "6      1       2         1        2         1           1            4   \n",
       "7      1       2         1        2         1           1            4   \n",
       "8      1       2         1        2         1           1            4   \n",
       "9      1       2         1        2         1           1            4   \n",
       "\n",
       "   NINCPCTLECAT  INCQRTCAT  NINCQRTCAT  \n",
       "5             4          2           2  \n",
       "6             3          2           2  \n",
       "7             4          2           2  \n",
       "8             4          2           2  \n",
       "9             4          2           2  \n",
       "\n",
       "[5 rows x 351 columns]"
      ]
     },
     "execution_count": 3,
     "metadata": {},
     "output_type": "execute_result"
    }
   ],
   "source": [
    "mask = df[\"TURNFEAR\"] ==1\n",
    "df_fear = df[mask]\n",
    "print(\"df_fear type:\", type(df_fear))\n",
    "print(\"df_fear shape:\", df_fear.shape)\n",
    "df_fear.head()"
   ]
  },
  {
   "cell_type": "markdown",
   "id": "056a9b9d-7fbd-4dc4-ba6f-9481ea4498a8",
   "metadata": {
    "tags": []
   },
   "source": [
    "## Explore"
   ]
  },
  {
   "cell_type": "markdown",
   "id": "43921345-d594-4b9f-be34-34eb0b2a8677",
   "metadata": {},
   "source": [
    "### Age"
   ]
  },
  {
   "cell_type": "markdown",
   "id": "19ff509c-8c60-468f-aeba-a17a66d537e0",
   "metadata": {},
   "source": [
    "Now that we have our subset, let's explore the characteristics of this group. One of the features is age group (`\"AGECL\"`)."
   ]
  },
  {
   "cell_type": "code",
   "execution_count": 7,
   "id": "4e2ab56f-ae43-4dc0-85f7-7c8b2b6d0600",
   "metadata": {},
   "outputs": [
    {
     "data": {
      "text/html": [
       "\n",
       "        <iframe\n",
       "            width=\"600\"\n",
       "            height=\"300\"\n",
       "            src=\"https://player.vimeo.com/video/710784794?h=71b10e363d\"\n",
       "            frameborder=\"0\"\n",
       "            allowfullscreen\n",
       "            \n",
       "        ></iframe>\n",
       "        "
      ],
      "text/plain": [
       "<IPython.lib.display.VimeoVideo at 0x70517ee35210>"
      ]
     },
     "execution_count": 7,
     "metadata": {},
     "output_type": "execute_result"
    }
   ],
   "source": [
    "VimeoVideo(\"710784794\", h=\"71b10e363d\", width=600)"
   ]
  },
  {
   "cell_type": "markdown",
   "id": "9a13979f-f801-4a42-bcbe-476d3c2a9c74",
   "metadata": {},
   "source": [
    "**Task 6.1.3:** Create a list `age_groups` with the unique values in the `\"AGECL\"` column. Then review the entry for `\"AGECL\"` in the [Code Book](https://sda.berkeley.edu/sdaweb/docs/scfcomb2019/DOC/hcbkfx0.htm) to determine what the values represent.\n",
    "\n",
    "- [Determine the unique values in a column using pandas.](../%40textbook/03-pandas-getting-started.ipynb#Determine-the-unique-values-in-a-column)"
   ]
  },
  {
   "cell_type": "code",
   "execution_count": 6,
   "id": "63243218-489c-4f41-84c0-cdd82baadceb",
   "metadata": {},
   "outputs": [
    {
     "name": "stdout",
     "output_type": "stream",
     "text": [
      "Age Groups: 4    6405\n",
      "3    5635\n",
      "5    4985\n",
      "2    4725\n",
      "1    4365\n",
      "6    2770\n",
      "Name: AGECL, dtype: int64\n"
     ]
    }
   ],
   "source": [
    "age_groups = df[\"AGECL\"].value_counts()\n",
    "print(\"Age Groups:\", age_groups)"
   ]
  },
  {
   "cell_type": "markdown",
   "id": "29f0d890-50fd-4e30-b33e-13ce86d44b63",
   "metadata": {},
   "source": [
    "Looking at the Code Book we can see that `\"AGECL\"` represents categorical data, even though the values in the column are numeric.\n",
    "\n",
    "![](images/6.1.3.png)\n",
    "\n",
    "This simplifies data storage, but it's not very human-readable. So before we create a visualization, let's create a version of this column that uses the actual group names."
   ]
  },
  {
   "cell_type": "code",
   "execution_count": 11,
   "id": "e9e25eee-921d-42a7-8fcc-e107194af103",
   "metadata": {},
   "outputs": [
    {
     "data": {
      "text/html": [
       "\n",
       "        <iframe\n",
       "            width=\"600\"\n",
       "            height=\"300\"\n",
       "            src=\"https://player.vimeo.com/video/710785566?h=f0fafd3a29\"\n",
       "            frameborder=\"0\"\n",
       "            allowfullscreen\n",
       "            \n",
       "        ></iframe>\n",
       "        "
      ],
      "text/plain": [
       "<IPython.lib.display.VimeoVideo at 0x70517c222690>"
      ]
     },
     "execution_count": 11,
     "metadata": {},
     "output_type": "execute_result"
    }
   ],
   "source": [
    "VimeoVideo(\"710785566\", h=\"f0fafd3a29\", width=600)"
   ]
  },
  {
   "cell_type": "markdown",
   "id": "aa2108f2-f898-4635-9eb8-fcb0548aac0b",
   "metadata": {},
   "source": [
    "**Task 6.1.4:** Create a Series `agecl` that contains the observations from `\"AGECL\"` using the true group names. \n",
    "\n",
    "- [Create a Series in pandas.](../%40textbook/04-pandas-advanced.ipynb#Series-and-Groupby)\n",
    "- [Replace values in a column using pandas.](../%40textbook/03-pandas-getting-started.ipynb#Replacing-Column-Values) "
   ]
  },
  {
   "cell_type": "code",
   "execution_count": 10,
   "id": "c8baa772-f5e4-452a-b2a7-a882f954628d",
   "metadata": {},
   "outputs": [
    {
     "name": "stdout",
     "output_type": "stream",
     "text": [
      "age_cl type: <class 'pandas.core.series.Series'>\n",
      "age_cl shape: (28885,)\n"
     ]
    },
    {
     "data": {
      "text/plain": [
       "0    75 or Older\n",
       "1    75 or Older\n",
       "2    75 or Older\n",
       "3    75 or Older\n",
       "4    75 or Older\n",
       "Name: AGECL, dtype: object"
      ]
     },
     "execution_count": 10,
     "metadata": {},
     "output_type": "execute_result"
    }
   ],
   "source": [
    "agecl_dict = {\n",
    "    1: \"Under 35\",\n",
    "    2: \"35-44\",\n",
    "    3: \"45-54\",\n",
    "    4: \"55-64\",\n",
    "    5: \"65-74\",\n",
    "    6: \"75 or Older\",\n",
    "}\n",
    "\n",
    "age_cl = df[\"AGECL\"].replace(agecl_dict)\n",
    "print(\"age_cl type:\", type(age_cl))\n",
    "print(\"age_cl shape:\", age_cl.shape)\n",
    "age_cl.head()"
   ]
  },
  {
   "cell_type": "markdown",
   "id": "9b15803c-fca7-4bfb-97ff-40b9670a7fac",
   "metadata": {},
   "source": [
    "Now that we have better labels, let's make a bar chart and see the age distribution of our group."
   ]
  },
  {
   "cell_type": "code",
   "execution_count": null,
   "id": "26b1e0fe-117d-4e7b-9983-81c7449b0dd0",
   "metadata": {},
   "outputs": [],
   "source": [
    "VimeoVideo(\"710840376\", h=\"d43825c14b\", width=600)"
   ]
  },
  {
   "cell_type": "markdown",
   "id": "82df39e5-4fca-40c3-bd63-e0dc89b4372f",
   "metadata": {},
   "source": [
    "**Task 6.1.5:** Create a bar chart showing the value counts from `age_cl`. Be sure to label the x-axis `\"Age Group\"`, the y-axis `\"Frequency (count)\"`, and use the title `\"Credit Fearful: Age Groups\"`.\n",
    "\n",
    "- [Create a bar chart using pandas.](../%40textbook/07-visualization-pandas.ipynb#Bar-Charts)"
   ]
  },
  {
   "cell_type": "code",
   "execution_count": 15,
   "id": "184a5030-957c-4b55-b9ce-93e186e0d586",
   "metadata": {},
   "outputs": [
    {
     "data": {
      "image/png": "[encoded data removed]",
      "text/plain": [
       "<Figure size 640x480 with 1 Axes>"
      ]
     },
     "metadata": {},
     "output_type": "display_data"
    }
   ],
   "source": [
    "age_cl_value_counts = age_cl.value_counts()\n",
    "\n",
    "# Bar plot of `age_cl_value_counts`\n",
    "age_cl_value_counts.plot(kind=\"barh\")\n",
    "plt.xlabel(\"Age Group\")\n",
    "plt.ylabel(\"Frequency (count)\")\n",
    "plt.title(\"Credit Fearfull : Age Groups\");"
   ]
  },
  {
   "cell_type": "markdown",
   "id": "77a6fd48-b929-4b54-bf56-7d38613e9a64",
   "metadata": {},
   "source": [
    "You might have noticed that by creating their own age groups, the authors of the survey have basically made a histogram for us comprised of 6 bins. Our chart is telling us that many of the people who fear being denied credit are younger. But the first two age groups cover a wider range than the other four. So it might be useful to look inside those values to get a more granular understanding of the data.\n",
    "\n",
    "To do that, we'll need to look at a different variable: `\"AGE\"`. Whereas `\"AGECL\"` was a categorical variable, `\"AGE\"` is continuous, so we can use it to make a histogram of our own."
   ]
  },
  {
   "cell_type": "code",
   "execution_count": null,
   "id": "d5912501-048f-4a73-83e8-a9e3effd3228",
   "metadata": {},
   "outputs": [],
   "source": [
    "VimeoVideo(\"710841580\", h=\"a146a24e5c\", width=600)"
   ]
  },
  {
   "cell_type": "markdown",
   "id": "9e2262f2-4012-44d3-aa7e-1a508c37daa6",
   "metadata": {},
   "source": [
    "**Task 6.1.6:** Create a histogram of the `\"AGE\"` column with 10 bins. Be sure to label the x-axis `\"Age\"`, the y-axis `\"Frequency (count)\"`, and use the title `\"Credit Fearful: Age Distribution\"`. \n",
    "\n",
    "- [Create a histogram using pandas.](../%40textbook/06-visualization-matplotlib.ipynb#Histograms)"
   ]
  },
  {
   "cell_type": "code",
   "execution_count": 17,
   "id": "f770fa02-948d-4b59-b80c-71f707b6e5a5",
   "metadata": {},
   "outputs": [
    {
     "data": {
      "image/png": "[encoded data removed]",
      "text/plain": [
       "<Figure size 640x480 with 1 Axes>"
      ]
     },
     "metadata": {},
     "output_type": "display_data"
    }
   ],
   "source": [
    "# Plot histogram of \"AGE\"\n",
    "df_fear[\"AGE\"].hist(bins=10)\n",
    "plt.xlabel(\"Age\")\n",
    "plt.ylabel(\"Frequency (count)\")\n",
    "plt.title(\"Credit Fearfull : Age Distribution\");"
   ]
  },
  {
   "cell_type": "markdown",
   "id": "3715ba37-e62b-4085-8149-b69107b8fea2",
   "metadata": {},
   "source": [
    "It looks like younger people are still more concerned about being able to secure a loan than older people, but the people who are *most* concerned seem to be between 30 and 40. "
   ]
  },
  {
   "cell_type": "markdown",
   "id": "b5c10cfa-01fe-4b2f-a705-552243b9efe5",
   "metadata": {},
   "source": [
    "### Race"
   ]
  },
  {
   "cell_type": "markdown",
   "id": "5fe4dd0e-7fc3-4e18-9bc4-99fab6db73a4",
   "metadata": {},
   "source": [
    "Now that we have an understanding of how age relates to our outcome of interest, let's try some other possibilities, starting with race. If we look at the [Code Book](https://sda.berkeley.edu/sdaweb/docs/scfcomb2019/DOC/hcbk0001.htm#RACE) for `\"RACE\"`, we can see that there are 4 categories.\n",
    "\n",
    "![](images/6.1.7.png)\n",
    "\n",
    "Note that there's no `4` category here. If a value for 4 *did* exist, it would be reasonable to assign it to \"Asian American / Pacific Islander\" — a group that doesn't seem to be represented in the dataset. This is a strange omission, but you'll often find that large public datasets have these sorts of issues. The important thing is to always read the data dictionary carefully. In this case, remember that this dataset doesn't provide a complete picture of race in America — something that you'd have to explain to anyone interested in your analysis."
   ]
  },
  {
   "cell_type": "code",
   "execution_count": 22,
   "id": "e08cdebd-be36-4c1f-b707-0934bb19a305",
   "metadata": {},
   "outputs": [
    {
     "data": {
      "text/html": [
       "\n",
       "        <iframe\n",
       "            width=\"600\"\n",
       "            height=\"300\"\n",
       "            src=\"https://player.vimeo.com/video/710842177?h=8d8354e091\"\n",
       "            frameborder=\"0\"\n",
       "            allowfullscreen\n",
       "            \n",
       "        ></iframe>\n",
       "        "
      ],
      "text/plain": [
       "<IPython.lib.display.VimeoVideo at 0x70517932a7d0>"
      ]
     },
     "execution_count": 22,
     "metadata": {},
     "output_type": "execute_result"
    }
   ],
   "source": [
    "VimeoVideo(\"710842177\", h=\"8d8354e091\", width=600)"
   ]
  },
  {
   "cell_type": "markdown",
   "id": "a78a2664-578a-401f-b76e-be6553276769",
   "metadata": {},
   "source": [
    "**Task 6.1.7:** Create a horizontal bar chart showing the normalized value counts for `\"RACE\"`. In your chart, you should replace the numerical values with the true group names. Be sure to label the x-axis `\"Frequency (%)\"`, the y-axis `\"Race\"`, and use the title `\"Credit Fearful: Racial Groups\"`. Finally, set the `xlim` for this plot to `(0,1)`.\n",
    "\n",
    "- [Create a bar chart using pandas.](../%40textbook/07-visualization-pandas.ipynb#Bar-Charts)"
   ]
  },
  {
   "cell_type": "code",
   "execution_count": 23,
   "id": "c5a69070-8323-4cd9-a908-ca369e05eed3",
   "metadata": {},
   "outputs": [
    {
     "data": {
      "image/png": "[encoded data removed]",
      "text/plain": [
       "<Figure size 640x480 with 1 Axes>"
      ]
     },
     "metadata": {},
     "output_type": "display_data"
    }
   ],
   "source": [
    "race_dict = {\n",
    "    1: \"White/Non-Hispanic\",\n",
    "    2: \"Black/African-American\",\n",
    "    3: \"Hispanic\",\n",
    "    5: \"Other\",\n",
    "}\n",
    "race = df_fear.replace(race_dict)\n",
    "race_value_counts = race[\"RACE\"].value_counts(normalize=True)\n",
    "# Create bar chart of race_value_counts\n",
    "race_value_counts.plot(kind=\"barh\")\n",
    "plt.xlim((0, 1))\n",
    "plt.xlabel(\"Frequency (%)\")\n",
    "plt.ylabel(\"Race\")\n",
    "plt.title(\"Credit Fearful: Racial Groups\");"
   ]
  },
  {
   "cell_type": "markdown",
   "id": "d4b2e87a-f1b2-4537-ac55-14bed94aa23e",
   "metadata": {},
   "source": [
    "This suggests that White/Non-Hispanic people worry more about being denied credit, but thinking critically about what we're seeing, that might be because there are more White/Non-Hispanic in the population of the United States than there are other racial groups, and the sample for this survey was specifically drawn to be representative of the population as a whole."
   ]
  },
  {
   "cell_type": "code",
   "execution_count": null,
   "id": "4980d065-7313-4abe-9f14-138ea36b2b1e",
   "metadata": {},
   "outputs": [],
   "source": [
    "VimeoVideo(\"710844376\", h=\"8e1fdf92ef\", width=600)"
   ]
  },
  {
   "cell_type": "markdown",
   "id": "a7a4ac9a-012f-461d-bb2c-c5f796c94dc1",
   "metadata": {},
   "source": [
    "**Task 6.1.8:** Recreate the horizontal bar chart you just made, but this time use the entire dataset `df` instead of the subset `df_fear`. The title of this plot should be `\"SCF Respondents: Racial Groups\"`\n",
    "\n",
    "- [Create a bar chart using pandas.](../%40textbook/07-visualization-pandas.ipynb#Bar-Charts)"
   ]
  },
  {
   "cell_type": "code",
   "execution_count": 24,
   "id": "50f588f7-46eb-41e2-a474-0bdf8c7eb358",
   "metadata": {},
   "outputs": [
    {
     "data": {
      "image/png": "[encoded data removed]",
      "text/plain": [
       "<Figure size 640x480 with 1 Axes>"
      ]
     },
     "metadata": {},
     "output_type": "display_data"
    }
   ],
   "source": [
    "race = df.replace(race_dict)\n",
    "race_value_counts = race[\"RACE\"].value_counts(normalize=True)\n",
    "# Create bar chart of race_value_counts\n",
    "race_value_counts.plot(kind=\"barh\")\n",
    "\n",
    "plt.xlim((0, 1))\n",
    "plt.xlabel(\"Frequency (%)\")\n",
    "plt.ylabel(\"Race\")\n",
    "plt.title(\"SCF Respondents: Racial Groups\");"
   ]
  },
  {
   "cell_type": "markdown",
   "id": "82290107-6264-41ad-8705-03b8144aafb0",
   "metadata": {},
   "source": [
    "How does this second bar chart change our perception of the first one? On the one hand, we can see that White Non-Hispanics account for around 70% of whole dataset, but only 54% of credit fearful respondents. On the other hand, Black and Hispanic respondents represent 23% of the whole dataset but 40% of credit fearful respondents. In other words, Black and Hispanic households are actually *more* likely to be in the credit fearful group. "
   ]
  },
  {
   "cell_type": "markdown",
   "id": "b56c05f5-e6da-4b1f-873b-9e07b3e153a9",
   "metadata": {},
   "source": [
    "<div class=\"alert alert-block alert-warning\">\n",
    "<b>Data Ethics:</b> It's important to note that segmenting customers by race (or any other demographic group) for the purpose of lending is illegal in the United States. The same thing might be legal elsewhere, but even if it is, making decisions for things like lending based on racial categories is clearly unethical. This is a great example of how easy it can be to use data science tools to support and propagate systems of inequality. Even though we're \"just\" using numbers, statistical analysis is <i>never</i> neutral, so we always need to be thinking critically about how our work will be interpreted by the end-user.\n",
    "</div>"
   ]
  },
  {
   "cell_type": "markdown",
   "id": "6bd5a1b2-c80d-4f73-8a0e-45b0e970433b",
   "metadata": {},
   "source": [
    "### Income"
   ]
  },
  {
   "cell_type": "markdown",
   "id": "c3367a3f-1e8b-4f12-abe2-0c21b79675c6",
   "metadata": {},
   "source": [
    "What about income level? Are people with lower incomes concerned about being denied credit, or is that something people with more money worry about? In order to answer that question, we'll need to again compare the entire dataset with our subgroup using the `\"INCCAT\"` feature, which captures income percentile groups. This time, though, we'll make a single, side-by-side bar chart.\n",
    "\n",
    "![](images/6.1.8.png)"
   ]
  },
  {
   "cell_type": "code",
   "execution_count": null,
   "id": "3de97ac2-9d54-4846-b1c0-956df90c40f5",
   "metadata": {},
   "outputs": [],
   "source": [
    "VimeoVideo(\"710849451\", h=\"34a367a3f9\", width=600)"
   ]
  },
  {
   "cell_type": "markdown",
   "id": "e6965a51-7805-4ef3-81a5-6e719519cac5",
   "metadata": {},
   "source": [
    "**Task 6.1.9:** Create a DataFrame `df_inccat` that shows the normalized frequency for income categories for both the credit fearful and non-credit fearful households in the dataset. Your final DataFrame should look something like this:\n",
    "\n",
    "```\n",
    "    TURNFEAR   INCCAT  frequency\n",
    "0          0   90-100   0.297296\n",
    "1          0  60-79.9   0.174841\n",
    "2          0  40-59.9   0.143146\n",
    "3          0     0-20   0.140343\n",
    "4          0  21-39.9   0.135933\n",
    "5          0  80-89.9   0.108441\n",
    "6          1     0-20   0.288125\n",
    "7          1  21-39.9   0.256327\n",
    "8          1  40-59.9   0.228856\n",
    "9          1  60-79.9   0.132598\n",
    "10         1   90-100   0.048886\n",
    "11         1  80-89.9   0.045209\n",
    "```\n",
    "\n",
    "- [Aggregate data in a Series using `value_counts` in pandas.](../%40textbook/04-pandas-advanced.ipynb#Combine-multiple-categories-in-a-Series) \n",
    "- [Aggregate data using the `groupby` method in pandas.](../%40textbook/04-pandas-advanced.ipynb#Series-and-Groupby)\n",
    "- [Create a Series in pandas.](../%40textbook/04-pandas-advanced.ipynb#Series-and-Groupby)\n",
    "- [Rename a Series in pandas.](../%40textbook/03-pandas-getting-started.ipynb#Rename-a-Series)\n",
    "- [Replace values in a column using pandas.](../%40textbook/03-pandas-getting-started.ipynb#Replacing-Column-Values)  \n",
    "- [Set and reset the index of a DataFrame in pandas.](../%40textbook/03-pandas-getting-started.ipynb#Working-with-DataFrame-Indices)"
   ]
  },
  {
   "cell_type": "code",
   "execution_count": 31,
   "id": "f7329b2d-171b-4836-b489-a2236716a2cd",
   "metadata": {},
   "outputs": [
    {
     "name": "stdout",
     "output_type": "stream",
     "text": [
      "df_inccat type: <class 'pandas.core.frame.DataFrame'>\n",
      "df_inccat shape: (12, 3)\n"
     ]
    },
    {
     "data": {
      "text/html": [
       "<div>\n",
       "<style scoped>\n",
       "    .dataframe tbody tr th:only-of-type {\n",
       "        vertical-align: middle;\n",
       "    }\n",
       "\n",
       "    .dataframe tbody tr th {\n",
       "        vertical-align: top;\n",
       "    }\n",
       "\n",
       "    .dataframe thead th {\n",
       "        text-align: right;\n",
       "    }\n",
       "</style>\n",
       "<table border=\"1\" class=\"dataframe\">\n",
       "  <thead>\n",
       "    <tr style=\"text-align: right;\">\n",
       "      <th></th>\n",
       "      <th>TURNFEAR</th>\n",
       "      <th>INCCAT</th>\n",
       "      <th>frequency</th>\n",
       "    </tr>\n",
       "  </thead>\n",
       "  <tbody>\n",
       "    <tr>\n",
       "      <th>0</th>\n",
       "      <td>0</td>\n",
       "      <td>90-100</td>\n",
       "      <td>0.297296</td>\n",
       "    </tr>\n",
       "    <tr>\n",
       "      <th>1</th>\n",
       "      <td>0</td>\n",
       "      <td>60-79.9</td>\n",
       "      <td>0.174841</td>\n",
       "    </tr>\n",
       "    <tr>\n",
       "      <th>2</th>\n",
       "      <td>0</td>\n",
       "      <td>40-59.9</td>\n",
       "      <td>0.143146</td>\n",
       "    </tr>\n",
       "    <tr>\n",
       "      <th>3</th>\n",
       "      <td>0</td>\n",
       "      <td>0-20</td>\n",
       "      <td>0.140343</td>\n",
       "    </tr>\n",
       "    <tr>\n",
       "      <th>4</th>\n",
       "      <td>0</td>\n",
       "      <td>21-39.9</td>\n",
       "      <td>0.135933</td>\n",
       "    </tr>\n",
       "    <tr>\n",
       "      <th>5</th>\n",
       "      <td>0</td>\n",
       "      <td>80-89.9</td>\n",
       "      <td>0.108441</td>\n",
       "    </tr>\n",
       "    <tr>\n",
       "      <th>6</th>\n",
       "      <td>1</td>\n",
       "      <td>0-20</td>\n",
       "      <td>0.288125</td>\n",
       "    </tr>\n",
       "    <tr>\n",
       "      <th>7</th>\n",
       "      <td>1</td>\n",
       "      <td>21-39.9</td>\n",
       "      <td>0.256327</td>\n",
       "    </tr>\n",
       "    <tr>\n",
       "      <th>8</th>\n",
       "      <td>1</td>\n",
       "      <td>40-59.9</td>\n",
       "      <td>0.228856</td>\n",
       "    </tr>\n",
       "    <tr>\n",
       "      <th>9</th>\n",
       "      <td>1</td>\n",
       "      <td>60-79.9</td>\n",
       "      <td>0.132598</td>\n",
       "    </tr>\n",
       "    <tr>\n",
       "      <th>10</th>\n",
       "      <td>1</td>\n",
       "      <td>90-100</td>\n",
       "      <td>0.048886</td>\n",
       "    </tr>\n",
       "    <tr>\n",
       "      <th>11</th>\n",
       "      <td>1</td>\n",
       "      <td>80-89.9</td>\n",
       "      <td>0.045209</td>\n",
       "    </tr>\n",
       "  </tbody>\n",
       "</table>\n",
       "</div>"
      ],
      "text/plain": [
       "    TURNFEAR   INCCAT  frequency\n",
       "0          0   90-100   0.297296\n",
       "1          0  60-79.9   0.174841\n",
       "2          0  40-59.9   0.143146\n",
       "3          0     0-20   0.140343\n",
       "4          0  21-39.9   0.135933\n",
       "5          0  80-89.9   0.108441\n",
       "6          1     0-20   0.288125\n",
       "7          1  21-39.9   0.256327\n",
       "8          1  40-59.9   0.228856\n",
       "9          1  60-79.9   0.132598\n",
       "10         1   90-100   0.048886\n",
       "11         1  80-89.9   0.045209"
      ]
     },
     "execution_count": 31,
     "metadata": {},
     "output_type": "execute_result"
    }
   ],
   "source": [
    "inccat_dict = {\n",
    "    1: \"0-20\",\n",
    "    2: \"21-39.9\",\n",
    "    3: \"40-59.9\",\n",
    "    4: \"60-79.9\",\n",
    "    5: \"80-89.9\",\n",
    "    6: \"90-100\",\n",
    "}\n",
    "\n",
    "df_inccat = (df[\"INCCAT\"].replace(inccat_dict)\n",
    "            .groupby(df[\"TURNFEAR\"])\n",
    "            .value_counts(normalize=True)\n",
    "            .rename(\"frequency\")\n",
    "            .reset_index())\n",
    "            \n",
    "\n",
    "\n",
    "print(\"df_inccat type:\", type(df_inccat))\n",
    "print(\"df_inccat shape:\", df_inccat.shape)\n",
    "df_inccat"
   ]
  },
  {
   "cell_type": "code",
   "execution_count": 35,
   "id": "1c2789ae-f796-4bcf-a198-82799b4e10e0",
   "metadata": {},
   "outputs": [
    {
     "data": {
      "text/html": [
       "\n",
       "        <iframe\n",
       "            width=\"600\"\n",
       "            height=\"300\"\n",
       "            src=\"https://player.vimeo.com/video/710852691?h=3dcbf24a68\"\n",
       "            frameborder=\"0\"\n",
       "            allowfullscreen\n",
       "            \n",
       "        ></iframe>\n",
       "        "
      ],
      "text/plain": [
       "<IPython.lib.display.VimeoVideo at 0x70517a08e290>"
      ]
     },
     "execution_count": 35,
     "metadata": {},
     "output_type": "execute_result"
    }
   ],
   "source": [
    "VimeoVideo(\"710852691\", h=\"3dcbf24a68\", width=600)"
   ]
  },
  {
   "cell_type": "markdown",
   "id": "bae35664-15e8-4f74-8f7b-55a082d82df7",
   "metadata": {},
   "source": [
    "**Task 6.1.10:** Using seaborn, create a side-by-side bar chart of `df_inccat`. Set `hue` to `\"TURNFEAR\"`, and make sure that the income categories are in the correct order along the x-axis. Label to the x-axis `\"Income Category\"`, the y-axis `\"Frequency (%)\"`, and use the title `\"Income Distribution: Credit Fearful vs. Non-fearful\"`.\n",
    "\n",
    "- [Create a bar chart using seaborn.](../%40textbook/09-visualization-seaborn.ipynb#Bar-Charts)"
   ]
  },
  {
   "cell_type": "code",
   "execution_count": 40,
   "id": "5eaee0ec-7df9-4f61-b62f-e0cd6bc6cd3f",
   "metadata": {},
   "outputs": [
    {
     "data": {
      "image/png": "[encoded data removed]",
      "text/plain": [
       "<Figure size 640x480 with 1 Axes>"
      ]
     },
     "metadata": {},
     "output_type": "display_data"
    }
   ],
   "source": [
    "# Create bar chart of `df_inccat`\n",
    "sns.barplot(x=\"INCCAT\",y=\"frequency\",hue=\"TURNFEAR\",data=df_inccat,order=inccat_dict.values())\n",
    "plt.xlabel(\"Income Category\")\n",
    "plt.ylabel(\"Frequency (%)\")\n",
    "plt.title(\"Income Distribution: Credit Fearful vs. Non-fearful\");"
   ]
  },
  {
   "cell_type": "markdown",
   "id": "c93ef828-42bc-4ada-9833-c78508efda50",
   "metadata": {},
   "source": [
    "Comparing the income categories across the fearful and non-fearful groups, we can see that credit fearful households are much more common in the lower income categories. In other words, the credit fearful have lower incomes. "
   ]
  },
  {
   "cell_type": "markdown",
   "id": "b542f1cc-7814-4804-8de8-e97f7b01f040",
   "metadata": {},
   "source": [
    "So, based on all this, what do we know? Among the people who responded that they were indeed worried about being approved for credit after having been denied in the past five years, a plurality of the young and low-income had the highest number of respondents. That makes sense, right? Young people tend to make less money and rely more heavily on credit to get their lives off the ground, so having been denied credit makes them more anxious about the future."
   ]
  },
  {
   "cell_type": "markdown",
   "id": "7d323eaf-3316-453a-8568-7edd40704d26",
   "metadata": {},
   "source": [
    "### Assets"
   ]
  },
  {
   "cell_type": "markdown",
   "id": "71647f29-d64c-45a8-ae21-de6fc6a65f17",
   "metadata": {},
   "source": [
    "Not all the data is demographic, though. If you were working for a bank, you would probably care less about how old the people are, and more about their ability to carry more debt. If we were going to build a model for that, we'd want to establish some relationships among the variables, and making some correlation matrices is a good place to start.\n",
    "\n",
    "First, let's zoom out a little bit. We've been looking at only the people who answered \"yes\" when the survey asked about `\"TURNFEAR\"`, but what if we looked at everyone instead? To begin with, let's bring in a clear dataset and run a single correlation."
   ]
  },
  {
   "cell_type": "code",
   "execution_count": null,
   "id": "7d28d0a1-7082-4455-9730-1870f8c3044f",
   "metadata": {},
   "outputs": [],
   "source": [
    "VimeoVideo(\"710856200\", h=\"7b06e8b7f2\", width=600)"
   ]
  },
  {
   "cell_type": "markdown",
   "id": "d3aa6300-2491-4f02-ab14-354c23723f15",
   "metadata": {},
   "source": [
    "**Task 6.1.11:** Calculate the correlation coefficient for `\"ASSET\"` and `\"HOUSES\"` in the whole dataset `df`.\n",
    "\n",
    "- [Calculate the correlation coefficient for two Series using pandas.](../%40textbook/05-pandas-summary-statistics.ipynb#Correlations)"
   ]
  },
  {
   "cell_type": "code",
   "execution_count": 41,
   "id": "cab3ef86-a45b-46bc-ab9d-446d196e49e6",
   "metadata": {},
   "outputs": [
    {
     "name": "stdout",
     "output_type": "stream",
     "text": [
      "SCF: Asset Houses Correlation: 0.5198273544779257\n"
     ]
    }
   ],
   "source": [
    "asset_house_corr = df[\"ASSET\"].corr(df[\"HOUSES\"])\n",
    "print(\"SCF: Asset Houses Correlation:\", asset_house_corr)"
   ]
  },
  {
   "cell_type": "markdown",
   "id": "20ae6c7e-6b1b-4a4f-bd39-ef3ad282235e",
   "metadata": {},
   "source": [
    "That's a moderate positive correlation, which we would probably expect, right? For many Americans, the value of their primary residence makes up most of the value of their total assets. What about the people in our `TURNFEAR` subset, though? Let's run that correlation to see if there's a difference."
   ]
  },
  {
   "cell_type": "code",
   "execution_count": null,
   "id": "03c7d073-8ecb-479d-9d6a-e3bceb000a5c",
   "metadata": {},
   "outputs": [],
   "source": [
    "VimeoVideo(\"710857088\", h=\"33b8f810fb\", width=600)"
   ]
  },
  {
   "cell_type": "markdown",
   "id": "15a95ea7-1ec0-43f4-a078-21aa636ec7f0",
   "metadata": {},
   "source": [
    "**Task 6.1.12:** Calculate the correlation coefficient for `\"ASSET\"` and `\"HOUSES\"` in the whole credit-fearful subset `df_fear`.\n",
    "\n",
    "- [Calculate the correlation coefficient for two Series using pandas.](../%40textbook/05-pandas-summary-statistics.ipynb#Correlations)<span style='color: transparent; font-size:1%'>WQU WorldQuant University Applied Data Science Lab QQQQ</span>"
   ]
  },
  {
   "cell_type": "code",
   "execution_count": 43,
   "id": "636aa70a-dc7f-4c11-a766-65ebd8bfd234",
   "metadata": {},
   "outputs": [
    {
     "data": {
      "text/plain": [
       "0.5832879735979161"
      ]
     },
     "execution_count": 43,
     "metadata": {},
     "output_type": "execute_result"
    }
   ],
   "source": [
    "asset_house_corr = df_fear[\"ASSET\"].corr(df_fear[\"HOUSES\"])\n",
    "asset_house_corr"
   ]
  },
  {
   "cell_type": "markdown",
   "id": "131119be-6e27-4011-9f42-1e4796c689bf",
   "metadata": {},
   "source": [
    "Aha! They're different! It's still only a moderate positive correlation, but the relationship between the total value of assets and the value of the primary residence is stronger for our `TURNFEAR` group than it is for the population as a whole. \n",
    "\n",
    "Let's make correlation matrices using the rest of the data for both `df` and `df_fear` and see if the differences persist. Here, we'll look at only 5 features: `\"ASSET\"`, `\"HOUSES\"`, `\"INCOME\"`, `\"DEBT\"`, and `\"EDUC\"`."
   ]
  },
  {
   "cell_type": "code",
   "execution_count": null,
   "id": "04e577f9-b696-49b1-a096-f1f4f7d0238a",
   "metadata": {},
   "outputs": [],
   "source": [
    "VimeoVideo(\"710857545\", h=\"c67691d13e\", width=600)"
   ]
  },
  {
   "cell_type": "markdown",
   "id": "0eab51f8-3688-4e9a-a156-4838ce6ce051",
   "metadata": {},
   "source": [
    "**Task 6.1.13:** Make a correlation matrix using `df`, considering only the columns `\"ASSET\"`, `\"HOUSES\"`, `\"INCOME\"`, `\"DEBT\"`, and `\"EDUC\"`.\n",
    "\n",
    "- [Create a correlation matrix in pandas.](../%40textbook/07-visualization-pandas.ipynb#Correlation-Matrices)"
   ]
  },
  {
   "cell_type": "code",
   "execution_count": 44,
   "id": "9922d7f2-5f66-427e-8817-ad729e57d8a6",
   "metadata": {},
   "outputs": [
    {
     "data": {
      "text/html": [
       "<style type=\"text/css\">\n",
       "#T_d4b71_row0_col0, #T_d4b71_row1_col1, #T_d4b71_row2_col2, #T_d4b71_row3_col3, #T_d4b71_row4_col4 {\n",
       "  background-color: #023858;\n",
       "  color: #f1f1f1;\n",
       "}\n",
       "#T_d4b71_row0_col1, #T_d4b71_row1_col0 {\n",
       "  background-color: #76aad0;\n",
       "  color: #f1f1f1;\n",
       "}\n",
       "#T_d4b71_row0_col2, #T_d4b71_row2_col0 {\n",
       "  background-color: #4295c3;\n",
       "  color: #f1f1f1;\n",
       "}\n",
       "#T_d4b71_row0_col3, #T_d4b71_row3_col0 {\n",
       "  background-color: #d7d6e9;\n",
       "  color: #000000;\n",
       "}\n",
       "#T_d4b71_row0_col4, #T_d4b71_row2_col3, #T_d4b71_row3_col2, #T_d4b71_row4_col0 {\n",
       "  background-color: #f5eff6;\n",
       "  color: #000000;\n",
       "}\n",
       "#T_d4b71_row1_col2, #T_d4b71_row2_col1 {\n",
       "  background-color: #dad9ea;\n",
       "  color: #000000;\n",
       "}\n",
       "#T_d4b71_row1_col3, #T_d4b71_row3_col1 {\n",
       "  background-color: #d6d6e9;\n",
       "  color: #000000;\n",
       "}\n",
       "#T_d4b71_row1_col4, #T_d4b71_row4_col1 {\n",
       "  background-color: #ede7f2;\n",
       "  color: #000000;\n",
       "}\n",
       "#T_d4b71_row2_col4, #T_d4b71_row4_col2 {\n",
       "  background-color: #fdf5fa;\n",
       "  color: #000000;\n",
       "}\n",
       "#T_d4b71_row3_col4, #T_d4b71_row4_col3 {\n",
       "  background-color: #fff7fb;\n",
       "  color: #000000;\n",
       "}\n",
       "</style>\n",
       "<table id=\"T_d4b71\">\n",
       "  <thead>\n",
       "    <tr>\n",
       "      <th class=\"blank level0\" >&nbsp;</th>\n",
       "      <th id=\"T_d4b71_level0_col0\" class=\"col_heading level0 col0\" >ASSET</th>\n",
       "      <th id=\"T_d4b71_level0_col1\" class=\"col_heading level0 col1\" >HOUSES</th>\n",
       "      <th id=\"T_d4b71_level0_col2\" class=\"col_heading level0 col2\" >INCOME</th>\n",
       "      <th id=\"T_d4b71_level0_col3\" class=\"col_heading level0 col3\" >DEBT</th>\n",
       "      <th id=\"T_d4b71_level0_col4\" class=\"col_heading level0 col4\" >EDUC</th>\n",
       "    </tr>\n",
       "  </thead>\n",
       "  <tbody>\n",
       "    <tr>\n",
       "      <th id=\"T_d4b71_level0_row0\" class=\"row_heading level0 row0\" >ASSET</th>\n",
       "      <td id=\"T_d4b71_row0_col0\" class=\"data row0 col0\" >1.000000</td>\n",
       "      <td id=\"T_d4b71_row0_col1\" class=\"data row0 col1\" >0.519827</td>\n",
       "      <td id=\"T_d4b71_row0_col2\" class=\"data row0 col2\" >0.622429</td>\n",
       "      <td id=\"T_d4b71_row0_col3\" class=\"data row0 col3\" >0.261250</td>\n",
       "      <td id=\"T_d4b71_row0_col4\" class=\"data row0 col4\" >0.116673</td>\n",
       "    </tr>\n",
       "    <tr>\n",
       "      <th id=\"T_d4b71_level0_row1\" class=\"row_heading level0 row1\" >HOUSES</th>\n",
       "      <td id=\"T_d4b71_row1_col0\" class=\"data row1 col0\" >0.519827</td>\n",
       "      <td id=\"T_d4b71_row1_col1\" class=\"data row1 col1\" >1.000000</td>\n",
       "      <td id=\"T_d4b71_row1_col2\" class=\"data row1 col2\" >0.247852</td>\n",
       "      <td id=\"T_d4b71_row1_col3\" class=\"data row1 col3\" >0.266661</td>\n",
       "      <td id=\"T_d4b71_row1_col4\" class=\"data row1 col4\" >0.169300</td>\n",
       "    </tr>\n",
       "    <tr>\n",
       "      <th id=\"T_d4b71_level0_row2\" class=\"row_heading level0 row2\" >INCOME</th>\n",
       "      <td id=\"T_d4b71_row2_col0\" class=\"data row2 col0\" >0.622429</td>\n",
       "      <td id=\"T_d4b71_row2_col1\" class=\"data row2 col1\" >0.247852</td>\n",
       "      <td id=\"T_d4b71_row2_col2\" class=\"data row2 col2\" >1.000000</td>\n",
       "      <td id=\"T_d4b71_row2_col3\" class=\"data row2 col3\" >0.114646</td>\n",
       "      <td id=\"T_d4b71_row2_col4\" class=\"data row2 col4\" >0.069400</td>\n",
       "    </tr>\n",
       "    <tr>\n",
       "      <th id=\"T_d4b71_level0_row3\" class=\"row_heading level0 row3\" >DEBT</th>\n",
       "      <td id=\"T_d4b71_row3_col0\" class=\"data row3 col0\" >0.261250</td>\n",
       "      <td id=\"T_d4b71_row3_col1\" class=\"data row3 col1\" >0.266661</td>\n",
       "      <td id=\"T_d4b71_row3_col2\" class=\"data row3 col2\" >0.114646</td>\n",
       "      <td id=\"T_d4b71_row3_col3\" class=\"data row3 col3\" >1.000000</td>\n",
       "      <td id=\"T_d4b71_row3_col4\" class=\"data row3 col4\" >0.054179</td>\n",
       "    </tr>\n",
       "    <tr>\n",
       "      <th id=\"T_d4b71_level0_row4\" class=\"row_heading level0 row4\" >EDUC</th>\n",
       "      <td id=\"T_d4b71_row4_col0\" class=\"data row4 col0\" >0.116673</td>\n",
       "      <td id=\"T_d4b71_row4_col1\" class=\"data row4 col1\" >0.169300</td>\n",
       "      <td id=\"T_d4b71_row4_col2\" class=\"data row4 col2\" >0.069400</td>\n",
       "      <td id=\"T_d4b71_row4_col3\" class=\"data row4 col3\" >0.054179</td>\n",
       "      <td id=\"T_d4b71_row4_col4\" class=\"data row4 col4\" >1.000000</td>\n",
       "    </tr>\n",
       "  </tbody>\n",
       "</table>\n"
      ],
      "text/plain": [
       "<pandas.io.formats.style.Styler at 0x70517482b390>"
      ]
     },
     "execution_count": 44,
     "metadata": {},
     "output_type": "execute_result"
    }
   ],
   "source": [
    "cols = [\"ASSET\", \"HOUSES\", \"INCOME\", \"DEBT\", \"EDUC\"]\n",
    "corr = df[cols].corr()\n",
    "corr.style.background_gradient(axis=None)"
   ]
  },
  {
   "cell_type": "code",
   "execution_count": null,
   "id": "624d99e4-12c5-4b80-ba9f-e69e33f39073",
   "metadata": {},
   "outputs": [],
   "source": [
    "VimeoVideo(\"710858210\", h=\"b679fd1fa5\", width=600)"
   ]
  },
  {
   "cell_type": "markdown",
   "id": "f6b5332f-d1c1-4e40-826e-94836e73c451",
   "metadata": {},
   "source": [
    "**Task 6.1.14:** Make a correlation matrix using `df_fear`.\n",
    "\n",
    "- [Create a correlation matrix in pandas.](../%40textbook/07-visualization-pandas.ipynb#Correlation-Matrices)"
   ]
  },
  {
   "cell_type": "code",
   "execution_count": 45,
   "id": "b4be334f-a51e-48f1-a6b1-0d122f11c8ea",
   "metadata": {},
   "outputs": [
    {
     "data": {
      "text/html": [
       "<style type=\"text/css\">\n",
       "#T_fe65e_row0_col0, #T_fe65e_row1_col1, #T_fe65e_row2_col2, #T_fe65e_row3_col3, #T_fe65e_row4_col4 {\n",
       "  background-color: #023858;\n",
       "  color: #f1f1f1;\n",
       "}\n",
       "#T_fe65e_row0_col1, #T_fe65e_row1_col0 {\n",
       "  background-color: #65a3cb;\n",
       "  color: #f1f1f1;\n",
       "}\n",
       "#T_fe65e_row0_col2, #T_fe65e_row2_col0 {\n",
       "  background-color: #1e80b8;\n",
       "  color: #f1f1f1;\n",
       "}\n",
       "#T_fe65e_row0_col3, #T_fe65e_row3_col0 {\n",
       "  background-color: #99b8d8;\n",
       "  color: #000000;\n",
       "}\n",
       "#T_fe65e_row0_col4, #T_fe65e_row4_col0 {\n",
       "  background-color: #fff7fb;\n",
       "  color: #000000;\n",
       "}\n",
       "#T_fe65e_row1_col2, #T_fe65e_row2_col1 {\n",
       "  background-color: #e2dfee;\n",
       "  color: #000000;\n",
       "}\n",
       "#T_fe65e_row1_col3, #T_fe65e_row3_col1 {\n",
       "  background-color: #034369;\n",
       "  color: #f1f1f1;\n",
       "}\n",
       "#T_fe65e_row1_col4, #T_fe65e_row4_col1 {\n",
       "  background-color: #f7f0f7;\n",
       "  color: #000000;\n",
       "}\n",
       "#T_fe65e_row2_col3, #T_fe65e_row3_col2 {\n",
       "  background-color: #f5eff6;\n",
       "  color: #000000;\n",
       "}\n",
       "#T_fe65e_row2_col4, #T_fe65e_row4_col2 {\n",
       "  background-color: #fcf4fa;\n",
       "  color: #000000;\n",
       "}\n",
       "#T_fe65e_row3_col4, #T_fe65e_row4_col3 {\n",
       "  background-color: #f4eef6;\n",
       "  color: #000000;\n",
       "}\n",
       "</style>\n",
       "<table id=\"T_fe65e\">\n",
       "  <thead>\n",
       "    <tr>\n",
       "      <th class=\"blank level0\" >&nbsp;</th>\n",
       "      <th id=\"T_fe65e_level0_col0\" class=\"col_heading level0 col0\" >ASSET</th>\n",
       "      <th id=\"T_fe65e_level0_col1\" class=\"col_heading level0 col1\" >HOUSES</th>\n",
       "      <th id=\"T_fe65e_level0_col2\" class=\"col_heading level0 col2\" >INCOME</th>\n",
       "      <th id=\"T_fe65e_level0_col3\" class=\"col_heading level0 col3\" >DEBT</th>\n",
       "      <th id=\"T_fe65e_level0_col4\" class=\"col_heading level0 col4\" >EDUC</th>\n",
       "    </tr>\n",
       "  </thead>\n",
       "  <tbody>\n",
       "    <tr>\n",
       "      <th id=\"T_fe65e_level0_row0\" class=\"row_heading level0 row0\" >ASSET</th>\n",
       "      <td id=\"T_fe65e_row0_col0\" class=\"data row0 col0\" >1.000000</td>\n",
       "      <td id=\"T_fe65e_row0_col1\" class=\"data row0 col1\" >0.583288</td>\n",
       "      <td id=\"T_fe65e_row0_col2\" class=\"data row0 col2\" >0.722074</td>\n",
       "      <td id=\"T_fe65e_row0_col3\" class=\"data row0 col3\" >0.474658</td>\n",
       "      <td id=\"T_fe65e_row0_col4\" class=\"data row0 col4\" >0.113536</td>\n",
       "    </tr>\n",
       "    <tr>\n",
       "      <th id=\"T_fe65e_level0_row1\" class=\"row_heading level0 row1\" >HOUSES</th>\n",
       "      <td id=\"T_fe65e_row1_col0\" class=\"data row1 col0\" >0.583288</td>\n",
       "      <td id=\"T_fe65e_row1_col1\" class=\"data row1 col1\" >1.000000</td>\n",
       "      <td id=\"T_fe65e_row1_col2\" class=\"data row1 col2\" >0.264099</td>\n",
       "      <td id=\"T_fe65e_row1_col3\" class=\"data row1 col3\" >0.962629</td>\n",
       "      <td id=\"T_fe65e_row1_col4\" class=\"data row1 col4\" >0.160348</td>\n",
       "    </tr>\n",
       "    <tr>\n",
       "      <th id=\"T_fe65e_level0_row2\" class=\"row_heading level0 row2\" >INCOME</th>\n",
       "      <td id=\"T_fe65e_row2_col0\" class=\"data row2 col0\" >0.722074</td>\n",
       "      <td id=\"T_fe65e_row2_col1\" class=\"data row2 col1\" >0.264099</td>\n",
       "      <td id=\"T_fe65e_row2_col2\" class=\"data row2 col2\" >1.000000</td>\n",
       "      <td id=\"T_fe65e_row2_col3\" class=\"data row2 col3\" >0.172393</td>\n",
       "      <td id=\"T_fe65e_row2_col4\" class=\"data row2 col4\" >0.133170</td>\n",
       "    </tr>\n",
       "    <tr>\n",
       "      <th id=\"T_fe65e_level0_row3\" class=\"row_heading level0 row3\" >DEBT</th>\n",
       "      <td id=\"T_fe65e_row3_col0\" class=\"data row3 col0\" >0.474658</td>\n",
       "      <td id=\"T_fe65e_row3_col1\" class=\"data row3 col1\" >0.962629</td>\n",
       "      <td id=\"T_fe65e_row3_col2\" class=\"data row3 col2\" >0.172393</td>\n",
       "      <td id=\"T_fe65e_row3_col3\" class=\"data row3 col3\" >1.000000</td>\n",
       "      <td id=\"T_fe65e_row3_col4\" class=\"data row3 col4\" >0.177386</td>\n",
       "    </tr>\n",
       "    <tr>\n",
       "      <th id=\"T_fe65e_level0_row4\" class=\"row_heading level0 row4\" >EDUC</th>\n",
       "      <td id=\"T_fe65e_row4_col0\" class=\"data row4 col0\" >0.113536</td>\n",
       "      <td id=\"T_fe65e_row4_col1\" class=\"data row4 col1\" >0.160348</td>\n",
       "      <td id=\"T_fe65e_row4_col2\" class=\"data row4 col2\" >0.133170</td>\n",
       "      <td id=\"T_fe65e_row4_col3\" class=\"data row4 col3\" >0.177386</td>\n",
       "      <td id=\"T_fe65e_row4_col4\" class=\"data row4 col4\" >1.000000</td>\n",
       "    </tr>\n",
       "  </tbody>\n",
       "</table>\n"
      ],
      "text/plain": [
       "<pandas.io.formats.style.Styler at 0x70516f52fd90>"
      ]
     },
     "execution_count": 45,
     "metadata": {},
     "output_type": "execute_result"
    }
   ],
   "source": [
    "corr = df_fear[cols].corr()\n",
    "corr.style.background_gradient(axis=None)"
   ]
  },
  {
   "cell_type": "markdown",
   "id": "e2c7a000-7426-4959-baf9-024ca49cce18",
   "metadata": {},
   "source": [
    "Whoa! There are some pretty important differences here! The relationship between `\"DEBT\"` and `\"HOUSES\"` is positive for both datasets, but while the coefficient for `df` is fairly weak at 0.26, the same number for `df_fear` is 0.96. \n",
    "\n",
    "Remember, the closer a correlation coefficient is to 1.0, the more exactly they correspond. In this case, that means the value of the primary residence and the total debt held by the household is getting pretty close to being the same. This suggests that the main source of debt being carried by our `\"TURNFEAR\"` folks is their primary residence, which, again, is an intuitive finding. \n",
    "\n",
    "`\"DEBT\"` and `\"ASSET\"` share a similarly striking difference, as do `\"EDUC\"` and `\"DEBT\"` which, while not as extreme a contrast as the other, is still big enough to catch the interest of our hypothetical banker.\n",
    "\n",
    "Let's make some visualizations to show these relationships graphically."
   ]
  },
  {
   "cell_type": "markdown",
   "id": "e2c7c217-983f-4336-b489-0b765e0cfd17",
   "metadata": {},
   "source": [
    "### Education"
   ]
  },
  {
   "cell_type": "markdown",
   "id": "1a73d614-7ee5-4ad4-a814-99673d088085",
   "metadata": {},
   "source": [
    "First, let's start with education levels `\"EDUC\"`, comparing credit fearful and non-credit fearful groups."
   ]
  },
  {
   "cell_type": "markdown",
   "id": "478a0054-5208-45c0-95c9-1fc9fdf43a80",
   "metadata": {},
   "source": [
    "![](images/6.1.15.png)"
   ]
  },
  {
   "cell_type": "code",
   "execution_count": null,
   "id": "8b44102c-cbb5-46a4-b32f-bf5c37721de5",
   "metadata": {},
   "outputs": [],
   "source": [
    "VimeoVideo(\"710858769\", h=\"2e6596cd4b\", width=600)"
   ]
  },
  {
   "cell_type": "markdown",
   "id": "9780eb97-ea2c-4c95-a91d-755a9d8a9a98",
   "metadata": {},
   "source": [
    "**Task 6.1.15:** Create a DataFrame `df_educ` that shows the normalized frequency for education categories for both the credit fearful and non-credit fearful households in the dataset. This will be similar in format to `df_inccat`, but focus on education. **Note** that you don't need to replace the numerical values in `\"EDUC\"` with the true labels.\n",
    "\n",
    "```\n",
    "    TURNFEAR  EDUC  frequency\n",
    "0          0    12   0.257481\n",
    "1          0     8   0.192029\n",
    "2          0    13   0.149823\n",
    "3          0     9   0.129833\n",
    "4          0    14   0.096117\n",
    "5          0    10   0.051150\n",
    "...\n",
    "25         1     5   0.015358\n",
    "26         1     2   0.012979\n",
    "27         1     3   0.011897\n",
    "28         1     1   0.005408\n",
    "29         1    -1   0.003245\n",
    "```\n",
    "\n",
    "- [Aggregate data in a Series using `value_counts` in pandas.](../%40textbook/04-pandas-advanced.ipynb#Combine-multiple-categories-in-a-Series) \n",
    "- [Aggregate data using the `groupby` method in pandas.](../%40textbook/04-pandas-advanced.ipynb#Series-and-Groupby)\n",
    "- [Create a Series in pandas.](../%40textbook/04-pandas-advanced.ipynb#Series-and-Groupby)\n",
    "- [Rename a Series in pandas.](../%40textbook/03-pandas-getting-started.ipynb#Rename-a-Series)\n",
    "- [Replace values in a column using pandas.](../%40textbook/03-pandas-getting-started.ipynb#Replace-Column-Values)  \n",
    "- [Set and reset the index of a DataFrame in pandas.](../%40textbook/03-pandas-getting-started.ipynb#Working-with-DataFrame-Indices)"
   ]
  },
  {
   "cell_type": "code",
   "execution_count": 49,
   "id": "f5d38d8c-f870-453f-b070-7f50dec6eba2",
   "metadata": {},
   "outputs": [
    {
     "name": "stdout",
     "output_type": "stream",
     "text": [
      "df_educ type: <class 'pandas.core.frame.DataFrame'>\n",
      "df_educ shape: (30, 3)\n"
     ]
    },
    {
     "data": {
      "text/html": [
       "<div>\n",
       "<style scoped>\n",
       "    .dataframe tbody tr th:only-of-type {\n",
       "        vertical-align: middle;\n",
       "    }\n",
       "\n",
       "    .dataframe tbody tr th {\n",
       "        vertical-align: top;\n",
       "    }\n",
       "\n",
       "    .dataframe thead th {\n",
       "        text-align: right;\n",
       "    }\n",
       "</style>\n",
       "<table border=\"1\" class=\"dataframe\">\n",
       "  <thead>\n",
       "    <tr style=\"text-align: right;\">\n",
       "      <th></th>\n",
       "      <th>TURNFEAR</th>\n",
       "      <th>EDUC</th>\n",
       "      <th>frequency</th>\n",
       "    </tr>\n",
       "  </thead>\n",
       "  <tbody>\n",
       "    <tr>\n",
       "      <th>14</th>\n",
       "      <td>0</td>\n",
       "      <td>-1</td>\n",
       "      <td>0.001237</td>\n",
       "    </tr>\n",
       "    <tr>\n",
       "      <th>29</th>\n",
       "      <td>1</td>\n",
       "      <td>-1</td>\n",
       "      <td>0.003245</td>\n",
       "    </tr>\n",
       "  </tbody>\n",
       "</table>\n",
       "</div>"
      ],
      "text/plain": [
       "    TURNFEAR  EDUC  frequency\n",
       "14         0    -1   0.001237\n",
       "29         1    -1   0.003245"
      ]
     },
     "execution_count": 49,
     "metadata": {},
     "output_type": "execute_result"
    }
   ],
   "source": [
    "df_educ = (df[\"EDUC\"].groupby(df[\"TURNFEAR\"])\n",
    "            .value_counts(normalize=True)\n",
    "            .rename(\"frequency\")\n",
    "            .reset_index())\n",
    "\n",
    "print(\"df_educ type:\", type(df_educ))\n",
    "print(\"df_educ shape:\", df_educ.shape)\n",
    "df_educ.head()"
   ]
  },
  {
   "cell_type": "code",
   "execution_count": null,
   "id": "4175a8ca-e6ae-4e98-81b5-010f6bc1fc04",
   "metadata": {},
   "outputs": [],
   "source": [
    "VimeoVideo(\"710861978\", h=\"81349c4b6a\", width=600)"
   ]
  },
  {
   "cell_type": "markdown",
   "id": "3c371c0f-f670-4a93-8da0-755030439cb2",
   "metadata": {},
   "source": [
    "**Task 6.1.16:** Using seaborn, create a side-by-side bar chart of `df_educ`. Set `hue` to `\"TURNFEAR\"`, and make sure that the education categories are in the correct order along the x-axis. Label to the x-axis `\"Education Level\"`, the y-axis `\"Frequency (%)\"`, and use the title `\"Educational Attainment: Credit Fearful vs. Non-fearful\"`.\n",
    "\n",
    "- [Create a bar chart using seaborn.](../%40textbook/09-visualization-seaborn.ipynb#Bar-Charts)"
   ]
  },
  {
   "cell_type": "code",
   "execution_count": 50,
   "id": "b7d86ef2-67b3-4686-8595-61e845db3a57",
   "metadata": {},
   "outputs": [
    {
     "data": {
      "image/png": "[encoded data removed]",
      "text/plain": [
       "<Figure size 640x480 with 1 Axes>"
      ]
     },
     "metadata": {},
     "output_type": "display_data"
    }
   ],
   "source": [
    "# Create bar chart of `df_educ`\n",
    "sns.barplot(x=\"EDUC\",y=\"frequency\",hue=\"TURNFEAR\",data=df_educ)\n",
    "plt.xlabel(\"Education Level\")\n",
    "plt.ylabel(\"Frequency (%)\")\n",
    "plt.title(\"Educational Attainment: Credit Fearful vs. Non-fearful\");"
   ]
  },
  {
   "cell_type": "markdown",
   "id": "e115b71a-f287-4792-9a67-1ab1c008d76d",
   "metadata": {},
   "source": [
    "In this plot, we can see that a much higher proportion of credit-fearful respondents have only a high school diploma, while university degrees are more common among the non-credit fearful."
   ]
  },
  {
   "cell_type": "markdown",
   "id": "bdc51e5a-00cc-4136-93ed-1c8a9c6ff578",
   "metadata": {},
   "source": [
    "### Debt"
   ]
  },
  {
   "cell_type": "markdown",
   "id": "ffc223bb-7fbf-417f-9c2c-683c1d22ad5f",
   "metadata": {},
   "source": [
    "Let's keep going with some scatter plots that look at debt."
   ]
  },
  {
   "cell_type": "code",
   "execution_count": null,
   "id": "3588bc13-5dc8-406c-9e94-cb3d4fa238fd",
   "metadata": {},
   "outputs": [],
   "source": [
    "VimeoVideo(\"710862939\", h=\"0f6e0fc201\", width=600)"
   ]
  },
  {
   "cell_type": "markdown",
   "id": "e6804040-be44-40ce-a69c-3438759ed469",
   "metadata": {},
   "source": [
    "**Task 6.1.17:** Use `df` to make a scatter plot showing the relationship between `DEBT` and `ASSET`.\n",
    "\n",
    "- [Create a scatter plot with pandas.](../%40textbook/07-visualization-pandas.ipynb#Scatter-Plots)"
   ]
  },
  {
   "cell_type": "code",
   "execution_count": 59,
   "id": "a2f616b4-f267-4671-9d8d-7a865c6878e3",
   "metadata": {},
   "outputs": [
    {
     "data": {
      "image/png": "[encoded data removed]",
      "text/plain": [
       "<Figure size 640x480 with 1 Axes>"
      ]
     },
     "metadata": {},
     "output_type": "display_data"
    }
   ],
   "source": [
    "# Create scatter plot of ASSET vs DEBT, df\n",
    "sns.scatterplot(x=df[\"DEBT\"]/ 1e8 , y=df[\"ASSET\"]/ 1e8)\n",
    "plt.title(\"Scatter plot DEBT Vs ASSET\");"
   ]
  },
  {
   "cell_type": "code",
   "execution_count": null,
   "id": "2016575f-6317-44fe-a4df-5b93dbe60230",
   "metadata": {},
   "outputs": [],
   "source": [
    "VimeoVideo(\"710864442\", h=\"2428f1c168\", width=600)"
   ]
  },
  {
   "cell_type": "markdown",
   "id": "652626e6-deb2-41d1-8cdb-097f61271ef8",
   "metadata": {},
   "source": [
    "**Task 6.1.18:** Use `df_fear` to make a scatter plot showing the relationship between `DEBT` and `ASSET`.\n",
    "\n",
    "- [Create a scatter plot with pandas.](../%40textbook/07-visualization-pandas.ipynb#Scatter-Plots)"
   ]
  },
  {
   "cell_type": "code",
   "execution_count": 60,
   "id": "c3a483f5-c9f6-40af-a009-7fef74fa696f",
   "metadata": {},
   "outputs": [
    {
     "data": {
      "image/png": "[encoded data removed]",
      "text/plain": [
       "<Figure size 640x480 with 1 Axes>"
      ]
     },
     "metadata": {},
     "output_type": "display_data"
    }
   ],
   "source": [
    "# Create scatter plot of ASSET vs DEBT, df_fear\n",
    "sns.scatterplot(x=df_fear[\"DEBT\"]/ 1e8 , y=df_fear[\"ASSET\"]/ 1e8)\n",
    "plt.title(\"Scatter plot DEBT Vs ASSET\");"
   ]
  },
  {
   "cell_type": "markdown",
   "id": "d8463aa6-27d8-474e-8a08-47cc519b0596",
   "metadata": {},
   "source": [
    "You can see relationship in our `df_fear` graph is flatter than the one in our `df` graph, but they clearly are different. "
   ]
  },
  {
   "cell_type": "markdown",
   "id": "f583d893-2c4a-47eb-ba35-37fe4f7f4044",
   "metadata": {},
   "source": [
    "Let's end with the most striking difference from our matrices, and make some scatter plots showing the difference between `HOUSES` and `DEBT`."
   ]
  },
  {
   "cell_type": "code",
   "execution_count": 62,
   "id": "2e3c4352-9159-46bc-a35f-3ae8a9f4ae6a",
   "metadata": {},
   "outputs": [
    {
     "data": {
      "text/html": [
       "\n",
       "        <iframe\n",
       "            width=\"600\"\n",
       "            height=\"300\"\n",
       "            src=\"https://player.vimeo.com/video/710865281?h=2e9fc0d9b9\"\n",
       "            frameborder=\"0\"\n",
       "            allowfullscreen\n",
       "            \n",
       "        ></iframe>\n",
       "        "
      ],
      "text/plain": [
       "<IPython.lib.display.VimeoVideo at 0x70517ee25210>"
      ]
     },
     "execution_count": 62,
     "metadata": {},
     "output_type": "execute_result"
    }
   ],
   "source": [
    "VimeoVideo(\"710865281\", h=\"2e9fc0d9b9\", width=600)"
   ]
  },
  {
   "cell_type": "markdown",
   "id": "5c7799b8-b203-4f52-9236-8b01ff61ba39",
   "metadata": {},
   "source": [
    "**Task 6.1.19:** Use `df` to make a scatter plot showing the relationship between `HOUSES` and `DEBT`.\n",
    "\n",
    "- [Create a scatter plot with pandas.](../%40textbook/07-visualization-pandas.ipynb#Scatter-Plots)"
   ]
  },
  {
   "cell_type": "code",
   "execution_count": 61,
   "id": "a77a54b6-581b-4ad5-9fed-3db4b0678818",
   "metadata": {},
   "outputs": [
    {
     "data": {
      "image/png": "[encoded data removed]",
      "text/plain": [
       "<Figure size 640x480 with 1 Axes>"
      ]
     },
     "metadata": {},
     "output_type": "display_data"
    }
   ],
   "source": [
    "# Create scatter plot of HOUSES vs DEBT, df\n",
    "sns.scatterplot(x=df[\"DEBT\"]/ 1e8 , y=df[\"HOUSES\"]/ 1e8)\n",
    "plt.title(\"Scatter plot DEBT Vs HOUSES\");"
   ]
  },
  {
   "cell_type": "markdown",
   "id": "36f887ae-f752-421e-87dc-74808a12cede",
   "metadata": {},
   "source": [
    "And make the same scatter plot using `df_fear`. "
   ]
  },
  {
   "cell_type": "code",
   "execution_count": null,
   "id": "c4adbe1b-17f0-4ec1-9489-7b3055f19062",
   "metadata": {},
   "outputs": [],
   "source": [
    "VimeoVideo(\"710870286\", h=\"3cd177965a\", width=600)"
   ]
  },
  {
   "cell_type": "markdown",
   "id": "81d95e5f-47c4-418d-852a-498e48315199",
   "metadata": {},
   "source": [
    "**Task 6.1.20:** Use `df_fear` to make a scatter plot showing the relationship between `HOUSES` and `DEBT`.\n",
    "\n",
    "- [Create a scatter plot with pandas.](../%40textbook/07-visualization-pandas.ipynb#Scatter-Plots)"
   ]
  },
  {
   "cell_type": "code",
   "execution_count": 63,
   "id": "b40c7a99-034f-4ffe-bc51-f13a10e7c5bf",
   "metadata": {},
   "outputs": [
    {
     "data": {
      "image/png": "[encoded data removed]",
      "text/plain": [
       "<Figure size 640x480 with 1 Axes>"
      ]
     },
     "metadata": {},
     "output_type": "display_data"
    }
   ],
   "source": [
    "# Create scatter plot of HOUSES vs DEBT, df_fear\n",
    "sns.scatterplot(x=df_fear[\"DEBT\"]/ 1e8 , y=df_fear[\"HOUSES\"]/ 1e8)\n",
    "plt.title(\"Scatter plot DEBT Vs HOUSES\");"
   ]
  },
  {
   "cell_type": "markdown",
   "id": "768bd5d8-1627-4894-89be-756e72ca03aa",
   "metadata": {},
   "source": [
    "The outliers make it a little difficult to see the difference between these two plots, but the relationship is clear enough: our `df_fear` graph shows an almost perfect linear relationship, while our `df` graph shows something a little more muddled. You might also notice that the datapoints on the `df_fear` graph form several little groups. Those are called \"clusters,\" and we'll be talking more about how to analyze clustered data in the next lesson."
   ]
  },
  {
   "cell_type": "markdown",
   "id": "5b22d4b9",
   "metadata": {
    "deletable": false,
    "editable": false
   },
   "source": [
    "---\n",
    "Copyright 2023 WorldQuant University. This\n",
    "content is licensed solely for personal use. Redistribution or\n",
    "publication of this material is strictly prohibited.\n"
   ]
  }
 ],
 "metadata": {
  "kernelspec": {
   "display_name": "Python 3 (ipykernel)",
   "language": "python",
   "name": "python3"
  },
  "language_info": {
   "codemirror_mode": {
    "name": "ipython",
    "version": 3
   },
   "file_extension": ".py",
   "mimetype": "text/x-python",
   "name": "python",
   "nbconvert_exporter": "python",
   "pygments_lexer": "ipython3",
   "version": "3.11.0"
  },
  "widgets": {
   "application/vnd.jupyter.widget-state+json": {
    "state": {},
    "version_major": 2,
    "version_minor": 0
   }
  }
 },
 "nbformat": 4,
 "nbformat_minor": 5
}
